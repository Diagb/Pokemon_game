{
 "cells": [
  {
   "cell_type": "code",
   "execution_count": 1,
   "metadata": {},
   "outputs": [],
   "source": [
    "#power list and pokemon list\n",
    "        Pikachu_powers ={'Shockwave': 50, 'Electrify': 40, 'Thunder': 10}\n",
    "        Charmander_powers = {'Overheat': 50, 'Heatwave': 40, 'Eruption': 10}\n",
    "        Bulbasaur_powers={'Seed Bomb': 50, 'Spore': 40, 'Petal dance': 10}\n",
    "        Squirtle_powers={'Surf': 50, 'Waterfall': 40, 'Dive': 10}\n",
    "        Pokemon_list=['Pikachu', 'Charmander', 'Bulbasaur','Squirtle']\n",
    "\n",
    "def choose_pokemon():\n",
    "        a=input('Please choose the Pokemon you want to play with:')\n",
    "        \n",
    "        while True :\n",
    "            if a not in Pokemon_list:\n",
    "                a=input('Please choose the Pokemon you want to play with:')\n",
    "                continue\n",
    "            else : \n",
    "                 if a==Pokemon_list[0]:\n",
    "                    x=[i.strip() for i in Pikachu_powers.keys()]\n",
    "                    print(\"You have chosen\",a,\"and these are the powers you can use\",x)\n",
    "                    return Pokemon_list.pop(0)\n",
    "                 elif a==Pokemon_list[1]:\n",
    "                    x=[i.strip() for i in Charmander_powers.keys()]\n",
    "                    print(\"You have chosen\",a,\"and these are the powers you can use\",x)\n",
    "                    return Pokemon_list.pop(1)\n",
    "                 elif a==Pokemon_list[2]:\n",
    "                    x=[i.strip() for i in Bulbasur_powers.keys()]\n",
    "                    print(\"You have chosen\",a,\"and these are the powers you can use\",x)\n",
    "                    return Pokemon_list.pop(2)\n",
    "                 else :\n",
    "                    x=[i.strip() for i in Squirtle_powers.keys()]\n",
    "                    print(\"You have chosen\",a,\"and these are the powers you can use\",x)\n",
    "                    return Pokemon_list.pop(3)\n",
    "            \n",
    "            break"
   ]
  },
  {
   "cell_type": "code",
   "execution_count": 9,
   "metadata": {},
   "outputs": [
    {
     "name": "stdout",
     "output_type": "stream",
     "text": [
      "Please choose the Pokemon you want to play with:Pikachu\n",
      "You have chosen Pikachu and these are the powers you can use ['Shockwave', 'Electrify', 'Thunder']\n",
      "['Charmander', 'Bulbasaur', 'Squirtle']\n"
     ]
    }
   ],
   "source": [
    "x=choose_pokemon()\n",
    "Pokemon_list=['Pikachu', 'Charmander', 'Bulbasaur','Squirtle']\n",
    "new_list=[]\n",
    "\n",
    "for i,j in enumerate(Pokemon_list):\n",
    "    if j==x:\n",
    "        Pokemon_list.pop(i)\n",
    "        print(Pokemon_list)"
   ]
  },
  {
   "cell_type": "code",
   "execution_count": 12,
   "metadata": {},
   "outputs": [
    {
     "name": "stdout",
     "output_type": "stream",
     "text": [
      "CPU has chosen to play with: Bulbasaur\n"
     ]
    }
   ],
   "source": [
    "def CPU_choice():\n",
    "    import random\n",
    "    CPU_choice=random.choice(Pokemon_list)\n",
    "    print('CPU has chosen to play with:', CPU_choice)\n",
    "    \n",
    "y=CPU_choice()"
   ]
  },
  {
   "cell_type": "code",
   "execution_count": 13,
   "metadata": {},
   "outputs": [],
   "source": [
    "def battle():\n",
    "    health_bar_player=100\n",
    "    health_bar_computer=100\n",
    "    \n",
    "    b=input(\"You are the first to play! What power do you want to begin with?:\")\n",
    "    \n",
    "    for i in Pokemon_list:\n",
    "        if y==i:\n",
    "            CPU_power=random.choice()\n",
    "    "
   ]
  },
  {
   "cell_type": "code",
   "execution_count": null,
   "metadata": {},
   "outputs": [],
   "source": [
    "battle"
   ]
  }
 ],
 "metadata": {
  "kernelspec": {
   "display_name": "Python 3",
   "language": "python",
   "name": "python3"
  },
  "language_info": {
   "codemirror_mode": {
    "name": "ipython",
    "version": 3
   },
   "file_extension": ".py",
   "mimetype": "text/x-python",
   "name": "python",
   "nbconvert_exporter": "python",
   "pygments_lexer": "ipython3",
   "version": "3.7.6"
  }
 },
 "nbformat": 4,
 "nbformat_minor": 4
}
