{
 "cells": [
  {
   "cell_type": "code",
   "execution_count": 1,
   "metadata": {},
   "outputs": [],
   "source": [
    "#power list and pokemon list\n",
    "Pikachu_powers ={'Shockwave': 30, 'Electrify': 20, 'Thunder': 10}\n",
    "Charmander_powers = {'Overheat': 30, 'Heatwave': 20, 'Eruption': 10}\n",
    "Bulbasaur_powers={'Seed Bomb': 30, 'Spore': 20, 'Petal dance': 10}\n",
    "Squirtle_powers={'Surf': 30, 'Waterfall': 20, 'Dive': 10}\n",
    "Pokemon_list=['Pikachu', 'Charmander', 'Bulbasaur','Squirtle']\n",
    "\n",
    "def choose_pokemon():\n",
    "        a=input('Please choose the Pokemon you want to play with:')\n",
    "        \n",
    "        while True :\n",
    "            if a not in Pokemon_list:\n",
    "                a=input('Please choose the Pokemon you want to play with:')\n",
    "                continue\n",
    "            else : \n",
    "                 if a==Pokemon_list[0]:\n",
    "                    x=[i.strip() for i in Pikachu_powers.keys()]\n",
    "                    print(\"You have chosen\",a,\"and these are the powers you can use\",x)\n",
    "                    return Pokemon_list.pop(0)\n",
    "                 elif a==Pokemon_list[1]:\n",
    "                    x=[i.strip() for i in Charmander_powers.keys()]\n",
    "                    print(\"You have chosen\",a,\"and these are the powers you can use\",x)\n",
    "                    return Pokemon_list.pop(1)\n",
    "                 elif a==Pokemon_list[2]:\n",
    "                    x=[i.strip() for i in Bulbasur_powers.keys()]\n",
    "                    print(\"You have chosen\",a,\"and these are the powers you can use\",x)\n",
    "                    return Pokemon_list.pop(2)\n",
    "                 else :\n",
    "                    x=[i.strip() for i in Squirtle_powers.keys()]\n",
    "                    print(\"You have chosen\",a,\"and these are the powers you can use\",x)\n",
    "                    return Pokemon_list.pop(3)\n",
    "            \n",
    "            break"
   ]
  },
  {
   "cell_type": "code",
   "execution_count": 2,
   "metadata": {},
   "outputs": [
    {
     "name": "stdout",
     "output_type": "stream",
     "text": [
      "Please choose the Pokemon you want to play with:Pikachu\n",
      "You have chosen Pikachu and these are the powers you can use ['Shockwave', 'Electrify', 'Thunder']\n"
     ]
    }
   ],
   "source": [
    "x=choose_pokemon()\n",
    "Pokemon_list=['Pikachu', 'Charmander', 'Bulbasaur','Squirtle']\n",
    "new_list=[]\n",
    "\n",
    "for i,j in enumerate(Pokemon_list):\n",
    "    if j==x:\n",
    "        Pokemon_list.pop(i)"
   ]
  },
  {
   "cell_type": "code",
   "execution_count": 3,
   "metadata": {},
   "outputs": [
    {
     "name": "stdout",
     "output_type": "stream",
     "text": [
      "CPU has chosen to play with: Charmander\n"
     ]
    }
   ],
   "source": [
    "def CPU_choice():\n",
    "    import random\n",
    "    CPU_choice=random.choice(Pokemon_list)\n",
    "    print('CPU has chosen to play with:', CPU_choice)\n",
    "    return CPU_choice\n",
    "    \n",
    "y=CPU_choice()"
   ]
  },
  {
   "cell_type": "code",
   "execution_count": 4,
   "metadata": {},
   "outputs": [],
   "source": [
    "def battle():\n",
    "    import random \n",
    "    health_bar_player=100\n",
    "    health_bar_CPU=100\n",
    "    \n",
    "    print(\"Player, you have chosen\",x,\"and you can play\",eval(x+'_powers'),\"and CPU has chosen\",y)\n",
    "    \n",
    "    while True:\n",
    "    \n",
    "        if (health_bar_player<=0)|(health_bar_CPU<=0):\n",
    "            print(\"Player final life points is\",health_bar_player, \"and CPU final life points is\",health_bar_CPU)\n",
    "            if health_bar_player<health_bar_CPU : print(\"CPU has won\")\n",
    "            else : print(\"Player has won\")\n",
    "            break\n",
    "            \n",
    "        else :\n",
    "            \n",
    "            while True:\n",
    "                player_attack=input(\"Hey player, What power do you want to use?:\")\n",
    "                if player_attack not in eval(x+'_powers'):\n",
    "                    print(\"You idiot, your pokemon cannot use this power! Take a look at the list again ;)\")\n",
    "                    continue \n",
    "                else :\n",
    "                    break  \n",
    "            \n",
    "            player_damage=eval(x+'_powers')[player_attack]\n",
    "            health_bar_CPU-=player_damage\n",
    "    \n",
    "            CPU_attack=random.choice([i for i in eval(y+'_powers').keys()])\n",
    "            CPU_damage=eval(y+'_powers')[CPU_attack]\n",
    "            health_bar_player-=CPU_damage\n",
    "            print(\"Player, FYI CPU used the attack\",CPU_attack,\"so you now have\",health_bar_player,\"life points remaining and CPU has\",health_bar_CPU,\"life points remaining\")"
   ]
  },
  {
   "cell_type": "code",
   "execution_count": 5,
   "metadata": {},
   "outputs": [
    {
     "name": "stdout",
     "output_type": "stream",
     "text": [
      "Player, you have chosen Pikachu and you can play {'Shockwave': 30, 'Electrify': 20, 'Thunder': 10} and CPU has chosen Charmander\n",
      "Hey player, What power do you want to use?:ls\n",
      "You idiot, your pokemon cannot use this power! Take a look at the list again ;)\n",
      "Hey player, What power do you want to use?:s,;b\n",
      "You idiot, your pokemon cannot use this power! Take a look at the list again ;)\n",
      "Hey player, What power do you want to use?:Shockwave\n",
      "Player, FYI CPU used the attack Eruption and you now have 90 life points remaining and CPU you have 70 life points remaining\n",
      "Hey player, What power do you want to use?:shockwave\n",
      "You idiot, your pokemon cannot use this power! Take a look at the list again ;)\n",
      "Hey player, What power do you want to use?:Shockwave\n",
      "Player, FYI CPU used the attack Heatwave and you now have 70 life points remaining and CPU you have 40 life points remaining\n",
      "Hey player, What power do you want to use?:Shockwave\n",
      "Player, FYI CPU used the attack Heatwave and you now have 50 life points remaining and CPU you have 10 life points remaining\n",
      "Hey player, What power do you want to use?:Shockwave\n",
      "Player, FYI CPU used the attack Heatwave and you now have 30 life points remaining and CPU you have -20 life points remaining\n",
      "Player final life points is 30 and CPU final life points is -20\n",
      "Player has won\n"
     ]
    }
   ],
   "source": [
    "battle()"
   ]
  },
  {
   "cell_type": "code",
   "execution_count": null,
   "metadata": {},
   "outputs": [],
   "source": []
  }
 ],
 "metadata": {
  "kernelspec": {
   "display_name": "Python 3",
   "language": "python",
   "name": "python3"
  },
  "language_info": {
   "codemirror_mode": {
    "name": "ipython",
    "version": 3
   },
   "file_extension": ".py",
   "mimetype": "text/x-python",
   "name": "python",
   "nbconvert_exporter": "python",
   "pygments_lexer": "ipython3",
   "version": "3.7.6"
  }
 },
 "nbformat": 4,
 "nbformat_minor": 4
}
