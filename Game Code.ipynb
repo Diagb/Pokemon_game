{
 "cells": [
  {
   "cell_type": "code",
   "execution_count": 4,
   "metadata": {},
   "outputs": [],
   "source": [
    "def choose_pokemon():\n",
    "        Pikachu_powers ={'Shockwave': 50, 'Electrify': 40, 'Thunder': 10}\n",
    "        Charmander_powers = {'Overheat': 50, 'Heatwave': 40, 'Eruption': 10}\n",
    "        Bulbasaur_powers={'Seed Bomb': 50, 'Spore': 40, 'Petal dance': 10}\n",
    "        Squirtle_powers={'Surf': 50, 'Waterfall': 40, 'Dive': 10}\n",
    "        Pokemon_list=['Pikachu', 'Charmander', 'Bulbasaur','Squirtle']\n",
    "        \n",
    "        a=input('Please choose the Pokemon you want to play with:')\n",
    "        \n",
    "        while True :\n",
    "            if a not in Pokemon_list:\n",
    "                a=input('Please choose the Pokemon you want to play with:')\n",
    "                continue\n",
    "            else : \n",
    "                 if a==Pokemon_list[0]:\n",
    "                    x=[i.strip() for i in Pikachu_powers.keys()]\n",
    "                    print(\"You have chosen\",a,\"and these are the powers you can use\",x)\n",
    "                 elif a==Pokemon_list[1]:\n",
    "                    x=[i.strip() for i in Charmander_powers.keys()]\n",
    "                    print(\"You have chosen\",a,\"and these are the powers you can use\",x)\n",
    "                 elif a==Pokemon_list[2]:\n",
    "                    x=[i.strip() for i in Bulbasur_powers.keys()]\n",
    "                    print(\"You have chosen\",a,\"and these are the powers you can use\",x)\n",
    "                 else :\n",
    "                    x=[i.strip() for i in Squirtle_powers.keys()]\n",
    "                    print(\"You have chosen\",a,\"and these are the powers you can use\",x)\n",
    "            break\n"
   ]
  },
  {
   "cell_type": "code",
   "execution_count": 7,
   "metadata": {},
   "outputs": [
    {
     "name": "stdout",
     "output_type": "stream",
     "text": [
      "Please choose the Pokemon you want to play with:jge\n",
      "Please choose the Pokemon you want to play with:kergl\n",
      "Please choose the Pokemon you want to play with:skgzl\n",
      "Please choose the Pokemon you want to play with:Squirtle\n",
      "You have chosen Squirtle and these are the powers you can use ['Surf', 'Waterfall', 'Dive']\n"
     ]
    }
   ],
   "source": [
    "choose_pokemon()"
   ]
  },
  {
   "cell_type": "code",
   "execution_count": null,
   "metadata": {},
   "outputs": [],
   "source": []
  }
 ],
 "metadata": {
  "kernelspec": {
   "display_name": "Python 3",
   "language": "python",
   "name": "python3"
  },
  "language_info": {
   "codemirror_mode": {
    "name": "ipython",
    "version": 3
   },
   "file_extension": ".py",
   "mimetype": "text/x-python",
   "name": "python",
   "nbconvert_exporter": "python",
   "pygments_lexer": "ipython3",
   "version": "3.7.6"
  }
 },
 "nbformat": 4,
 "nbformat_minor": 4
}
